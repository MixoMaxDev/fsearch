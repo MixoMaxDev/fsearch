{
 "cells": [
  {
   "cell_type": "code",
   "execution_count": 9,
   "metadata": {},
   "outputs": [],
   "source": [
    "import bs4\n",
    "import requests\n",
    "from fsearch_core import SearchResult, get_random_header"
   ]
  },
  {
   "cell_type": "code",
   "execution_count": 25,
   "metadata": {},
   "outputs": [],
   "source": [
    "\n",
    "def search_google(q: str) -> list[SearchResult]:\n",
    "    # search google\n",
    "    \n",
    "    cookie_data = {\n",
    "    \"CAPTCHA_SOLVER_ACTIVE\": \"false\",\n",
    "    \"GOOGLE_OGPC_COOKIE\": \"\",\n",
    "    \"GOOGLE_NID_COOKIE\": \"\",\n",
    "    \"GOOGLE_AEC_COOKIE\": \"\",\n",
    "    \"GOOGLE_1P_JAR_COOKIE\": \"\",\n",
    "    \"GOOGLE_ABUSE_COOKIE\": \"\"\n",
    "    }\n",
    "    \n",
    "    cookies = {\n",
    "        \"OGPC\": cookie_data[\"GOOGLE_OGPC_COOKIE\"],\n",
    "        \"NID\": cookie_data[\"GOOGLE_NID_COOKIE\"],\n",
    "        \"AEC\": cookie_data[\"GOOGLE_AEC_COOKIE\"],\n",
    "        \"1P_JAR\": cookie_data[\"GOOGLE_1P_JAR_COOKIE\"],\n",
    "        \"GOOGLE_ABUSE_EXEMPTION\": cookie_data[\"GOOGLE_ABUSE_COOKIE\"]\n",
    "    }\n",
    "    \n",
    "    headers = get_random_header()\n",
    "    \n",
    "    r = requests.get(f\"https://www.google.com/search?q={q}\", headers=headers, cookies=cookies)\n",
    "    \n",
    "    soup = bs4.BeautifulSoup(r.text, \"html.parser\")\n",
    "    \n",
    "    # get search results\n",
    "    results = []\n",
    "    for i in soup.find_all(\"div\", class_=\"g\"):\n",
    "        try:\n",
    "            # needed info:\n",
    "            # title\n",
    "            # url\n",
    "            # description\n",
    "            # image url\n",
    "            # provider (google)\n",
    "            # provider url (google.com)\n",
    "            # is_nsfw (bool)\n",
    "            \n",
    "            title = i.find(\"h3\").text\n",
    "            link = i.find(\"a\")[\"href\"]\n",
    "            \n",
    "            try:\n",
    "                description = i.find(\"span\", class_=\"aCOpRe\").text\n",
    "            except:\n",
    "                description = \"\"\n",
    "                \n",
    "            image = i.find(\"img\")[\"src\"]\n",
    "            provider = \"Google\"\n",
    "            provider_url = \"https://www.google.com\"\n",
    "            is_nsfw = False\n",
    "            \n",
    "            results.append(SearchResult(title, link, description, image, provider, provider_url, is_nsfw))\n",
    "        \n",
    "        except Exception as e:\n",
    "            print(e)\n",
    "    \n",
    "    return results\n",
    "    "
   ]
  },
  {
   "cell_type": "code",
   "execution_count": 26,
   "metadata": {},
   "outputs": [
    {
     "name": "stdout",
     "output_type": "stream",
     "text": [
      "[<fsearch_core.SearchResult object at 0x7f324112e510>, <fsearch_core.SearchResult object at 0x7f3240d055d0>, <fsearch_core.SearchResult object at 0x7f3236ee91d0>, <fsearch_core.SearchResult object at 0x7f3236bc19d0>, <fsearch_core.SearchResult object at 0x7f3236bf0310>, <fsearch_core.SearchResult object at 0x7f3236bf0510>, <fsearch_core.SearchResult object at 0x7f3236bf0550>, <fsearch_core.SearchResult object at 0x7f3236bf04d0>, <fsearch_core.SearchResult object at 0x7f3236bf0350>]\n",
      "{'title': 'Stiftung Warentest | Unabhängig. Objektiv. Unbestechlich.', 'url': 'https://www.test.de/', 'description': '', 'image_url': 'data:image/png;base64,iVBORw0KGgoAAAANSUhEUgAAACAAAAAgCAYAAABzenr0AAAA3UlEQVR4AWP4H8TwfyDxMHHAqAOyVR/9z1F79D+a7zP9HVBrf/U/DKxpPUR/B9w5dWjgHJAs+Qpo7deBc8DFXQdgdtPfAeVmN4FW/hwYB0Txfvn/48sNkJ30d0AEx/f/H16eBdlHfwcUaN+H+Zy+DkgUf/P/7NYDsBRPHwekSr/4v6zm8P83j04Cjf7xnxjw/fO1/89vHyMFYzrg5f0T///+efafTgDDATAwgh0wN/cYPgxOjLjArZMH/8/NP0IKJr0cmJJ0EqcDVrccJtW8UQeMOmDUAaMOGHXAqAMANazhGvhJ9iIAAAAASUVORK5CYII=', 'provider': 'Google', 'provider_url': 'https://www.google.com', 'is_nsfw': False}\n",
      "{'title': 'Stiftung Warentest | Unabhängig. Objektiv. Unbestechlich.', 'url': 'https://www.test.de/', 'description': '', 'image_url': 'data:image/png;base64,iVBORw0KGgoAAAANSUhEUgAAACAAAAAgCAYAAABzenr0AAAA3UlEQVR4AWP4H8TwfyDxMHHAqAOyVR/9z1F79D+a7zP9HVBrf/U/DKxpPUR/B9w5dWjgHJAs+Qpo7deBc8DFXQdgdtPfAeVmN4FW/hwYB0Txfvn/48sNkJ30d0AEx/f/H16eBdlHfwcUaN+H+Zy+DkgUf/P/7NYDsBRPHwekSr/4v6zm8P83j04Cjf7xnxjw/fO1/89vHyMFYzrg5f0T///+efafTgDDATAwgh0wN/cYPgxOjLjArZMH/8/NP0IKJr0cmJJ0EqcDVrccJtW8UQeMOmDUAaMOGHXAqAMANazhGvhJ9iIAAAAASUVORK5CYII=', 'provider': 'Google', 'provider_url': 'https://www.google.com', 'is_nsfw': False}\n",
      "{'title': 'Test - Wikipedia', 'url': 'https://en.wikipedia.org/wiki/Test', 'description': '', 'image_url': 'data:image/png;base64,iVBORw0KGgoAAAANSUhEUgAAACAAAAAgCAMAAABEpIrGAAAAM1BMVEUAAAD+/v41NTUBAQEAAABZWVknJycWFhaZmZmIiIjp6ellZWXMzMzX19eurq54eHhHR0dExXFyAAAAAXRSTlMAQObYZgAAAPtJREFUeAG8kAWOBDAMA9d1Sin+/7XXbpZZdBaURlMrhx28ycGCD/n0bvkBwJf8C+AoIvRAWGtMyHGtCWkfxW+DRopuuIjUtTQJDStevNoXWaRjRSllLd1O8FFhgEZx2BmkAmHC8HwpOUyxSA50VqOjXgAl50URvNWPBRcAnmwnhbcduthqQCO9KYTFBG7eDWoK1T47AZX9DuiUYT/TuhX3MGpnD51kPprSA9Dl+BCKl7jWHHEHmHsLWhNZZMxPQCLTEuy+cYF6D9i8Q5e2Lcyz4AGwKdJbX0p7AegC2qnvxAsAxQRAYH8J6Dg1a/lvpKRJinMW4cxLMPsDAJjSCaG8cPmnAAAAAElFTkSuQmCC', 'provider': 'Google', 'provider_url': 'https://www.google.com', 'is_nsfw': False}\n",
      "{'title': 'Speedtest by Ookla - The Global Broadband Speed Test', 'url': 'https://www.speedtest.net/', 'description': '', 'image_url': 'data:image/png;base64,iVBORw0KGgoAAAANSUhEUgAAACAAAAAgCAMAAABEpIrGAAAAXVBMVEVHcEwaGy4aGy4aGy4aGy4aGy4aGy4aGy4aGy4aGy4aGy4aGy7///8AABMCAyAAAAUSEyna2twLDSXl5uc0NEOOjpRRUVzz8/R8fIOjo6hqa3MnKDjJys3ExMe+vsIDRJAGAAAAC3RSTlMAyLrTZRhyMpKo1Flk/9UAAAFnSURBVDiNdVNbgoMgDLQWFVbeRalu6/2P2YSogNudHyEzZJKATVNg6LkQvB+arxja8UT7V9Pdxwo/Xc33Keq1AmifNn3JC4xoMy8v517LajTuRc1bM0W5I07GlgrMr8MDKbdtDr+PoLNLh/yM0VUlrKidUUGV3iB/gNBkqLrRmwm2AVzuqX8IGTizqtykWiGfgcVAFWo4MZ28VX5UGAGTFgSYIJKeDIJ7eswZMZQcLFT41CcPvajRg8ns0YOBwyKlKvj4C/UpKReNnXJYv/EM+Sceu1FOviDIk4DWqfzHzh+nxEWgJ0d8LXjnJrSyey4n38liL/JoIs+KimTYpi/bPDI9oU2bRkmTjqYW5EGlUYN8qRRmoaTiuCxXm3g44Y7LStc9xnNWewsSx3k7H4wN22yzwM5bwHHsT5thSBc8vm/csuNR8usQCDw/66+KgieXC1hToWtr+nb59XAeItPivx+ccQCr2A8ecihZ0ANnpQAAAABJRU5ErkJggg==', 'provider': 'Google', 'provider_url': 'https://www.google.com', 'is_nsfw': False}\n",
      "{'title': 'ÖKO-TEST: Richtig gut leben - Unabhängige Tests seit über ...', 'url': 'https://www.oekotest.de/', 'description': '', 'image_url': 'data:image/png;base64,iVBORw0KGgoAAAANSUhEUgAAACAAAAAgCAIAAAD8GO2jAAAABnRSTlMAAAAAAABupgeRAAAAZUlEQVR4Ae3WAQbAQAxE0dz/0r+oNogKjU9DY8CGedbCxrcGt/2M3a4Y1DjtgoEKkBGYH7i3ZGbA05aaVwANMEi0PGaCzcA1iwHW3yBMo4zb7hs+sPQNHKYdp7ph8sT86827BOAAAlBYxMzAv3IAAAAASUVORK5CYII=', 'provider': 'Google', 'provider_url': 'https://www.google.com', 'is_nsfw': False}\n",
      "{'title': 'Test - Wikipedia', 'url': 'https://de.wikipedia.org/wiki/Test', 'description': '', 'image_url': 'data:image/png;base64,iVBORw0KGgoAAAANSUhEUgAAACAAAAAgCAMAAABEpIrGAAAAM1BMVEUAAAD+/v41NTUBAQEAAABZWVknJycWFhaZmZmIiIjp6ellZWXMzMzX19eurq54eHhHR0dExXFyAAAAAXRSTlMAQObYZgAAAPtJREFUeAG8kAWOBDAMA9d1Sin+/7XXbpZZdBaURlMrhx28ycGCD/n0bvkBwJf8C+AoIvRAWGtMyHGtCWkfxW+DRopuuIjUtTQJDStevNoXWaRjRSllLd1O8FFhgEZx2BmkAmHC8HwpOUyxSA50VqOjXgAl50URvNWPBRcAnmwnhbcduthqQCO9KYTFBG7eDWoK1T47AZX9DuiUYT/TuhX3MGpnD51kPprSA9Dl+BCKl7jWHHEHmHsLWhNZZMxPQCLTEuy+cYF6D9i8Q5e2Lcyz4AGwKdJbX0p7AegC2qnvxAsAxQRAYH8J6Dg1a/lvpKRJinMW4cxLMPsDAJjSCaG8cPmnAAAAAElFTkSuQmCC', 'provider': 'Google', 'provider_url': 'https://www.google.com', 'is_nsfw': False}\n",
      "{'title': 'Test & Kaufberatung - CHIP', 'url': 'https://www.chip.de/tests', 'description': '', 'image_url': 'data:image/png;base64,iVBORw0KGgoAAAANSUhEUgAAACAAAAAgCAMAAABEpIrGAAAATlBMVEXrRD/vaWX5ycf////++fn4vLruYFz72djvZ2P3s7H6z83wd3TyhYH5w8H1op/zko/3tLLsTkr73dz2q6j84uHyiYb0m5j96unwcW36zMrSQs3JAAAAgUlEQVR4Ac3KRQLCQAADwEC27t7+/6E41IJb5zxYjNWaU8ay0XMoWLiwqZg+uJRmwfHOfBkC9HwRHAx4IngYCA3pySCcQ3QvML4X9DgHMURgci94b4cUJ1mU54UIJU4q7tjzwDrDgcUdVwSafK+hCHN9sCnZuCgplOi1HWe6FkuxBV92Bxihc63QAAAAAElFTkSuQmCC', 'provider': 'Google', 'provider_url': 'https://www.google.com', 'is_nsfw': False}\n",
      "{'title': 'Tests - DER SPIEGEL', 'url': 'https://www.spiegel.de/tests/', 'description': '', 'image_url': 'data:image/png;base64,iVBORw0KGgoAAAANSUhEUgAAACAAAAAgCAMAAABEpIrGAAAAZlBMVEXmRBTmRBXmQxTmQxXlQxXlRBTlQxTlRBXlOADkLgD1v7H98e386OLxo5L0s6T////+///ujXjlPAD52c/0t6njIwD0uq32w7f77OnyqZn3yL3rbkzrdFXpYDzthnDvmIjulIP51cp6trjGAAABsElEQVR4AW2SB3atMAxEZyR5bNLDS+/Z/ya/LOD3y5HcBrAKQJqBBjphRk4L0iakwRpNkMxMMJnPibQ5mYF/0vkXYGcPeicjrUefq5jSJBgIeQRd3cbyk6GkhxQOkiBI62fnBxeXA9wA6CzG1fXN9c3Nddn17codSFCkH6f9sAR3QwpJTQCIxMYp989PyXkJAKLgTgnu7pfl/qwEFUcaKFbGSvAwGsdjCUyABa3uoP0OKZDWq6eLp+ecNElQJaqTtv1iWdc18zFWZ5+wgxsowcvr28a70TgxuNydrhIc5L/cA+EEWmsSlYIjUUnloTcA7c9f7BxhMkFv+bD39eNz4+uiBIqesKHCSa/l/v5+mTFkvPUL0wQMD4fbuPr+/r5dY493eNT1DQQNxx2eB7ALADIN6ArFEebl0DapKCKCAbTeG5ptgmWM+01gJFpjw141luB0lpyXgHucIP6fBzfSSYOJNv24+l3wtZoSA+oX0/5o2ufVtl22o9z8s+0N3LdB73OW1qeR0XlslMDkUnpKotUqvXmazEyg0TA9AMKQ7FPu00aJU2YgvDGCDNCczRz2Ay0iHEdpREFAAAAAAElFTkSuQmCC', 'provider': 'Google', 'provider_url': 'https://www.google.com', 'is_nsfw': False}\n",
      "{'title': 'AV-TEST | Unabhängige Tests von Antiviren- & Security ...', 'url': 'https://www.av-test.org/', 'description': '', 'image_url': 'data:image/png;base64,iVBORw0KGgoAAAANSUhEUgAAACAAAAAgCAMAAABEpIrGAAAAsVBMVEX////y1NT+9vb9+Pj23t3ejIzTXV6/AAC/AAPbgIDNQ0S+AADADA7DGBrrubm9AADWa2zYdHTuwcH55ubEICHwysrLPD3glJTRWVrHLS7jnp7PUFDorq7h6u62zdYpaYXy9vhKeJAAPWOkvMgAR2oAQGUARGgANV6Xsr7nlpXpnJuPqLbL2d+ApbaQrbq90NhumatajKHp8PI8bYeCoLAAT3EALVlTgJYATG0bWXjO3OInNEWhAAABzElEQVR4AZSQRaIEQQhDy2Wobsbd3e9/vA/TVtufFSThLRD/k2SpalaSpbPUWOF8CD5Wq+W5lxXIkRJCCt786kVIyZc5IKETfUgJB7zyBE5kcpBgOBrz3USIoU80yCyfIBlTMasPp1TAmOV6DomscrT4IUpkwCgrDDGxtdBLJq2mVEOb5arnEwtnmuGe8jBWWWEJlLK7GDGdBcssHy0YsACyrVgB576XAyKwMykIUZgJlxOUOYAtXIuIFPSFY9Jcb7rCgAErKoZAkeQve7ndtblkAExomiHfCos42B+O2zrX3dtVEapv+dHpfN7tmx8BYP32JZKmajbY7y7X270qrB/P52NdP2z5pMVovXmR7j/E+8Pa3r+svfhrXF5QG4aBIAzPRbZRrN21IUK2XrHW9z9YpdICAQP9eA//7EfaMsW4DR5TWVR1rU1lWd7kWRYpcRVVeW8YKJ29l8Mbl5QSPfSMvfjzOcbkgOlSrXBNZk+NPUIeY1ePX2EGufGzRrgH80G4DTqvBnw1VdtuAy5HndfUmcNdIBsmh73p6y7QSkTwFrJJ/QxERtB5WLxJN9b9I7jMXsg2tWsvnS3OsXn8ydkB9ANwVyAMRA7/8g1el0B5cKWaQwAAAABJRU5ErkJggg==', 'provider': 'Google', 'provider_url': 'https://www.google.com', 'is_nsfw': False}\n"
     ]
    }
   ],
   "source": [
    "r = search_google(\"test\")\n",
    "\n",
    "print(r)\n",
    "\n",
    "for elem in r:\n",
    "    print(elem.to_json())"
   ]
  }
 ],
 "metadata": {
  "kernelspec": {
   "display_name": "Python 3",
   "language": "python",
   "name": "python3"
  },
  "language_info": {
   "codemirror_mode": {
    "name": "ipython",
    "version": 3
   },
   "file_extension": ".py",
   "mimetype": "text/x-python",
   "name": "python",
   "nbconvert_exporter": "python",
   "pygments_lexer": "ipython3",
   "version": "3.11.6"
  }
 },
 "nbformat": 4,
 "nbformat_minor": 2
}
