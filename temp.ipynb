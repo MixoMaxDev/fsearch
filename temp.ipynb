{
 "cells": [
  {
   "cell_type": "code",
   "execution_count": 7,
   "metadata": {},
   "outputs": [],
   "source": [
    "import bs4\n",
    "import requests\n",
    "import fsearch_core as fsc"
   ]
  },
  {
   "cell_type": "code",
   "execution_count": 24,
   "metadata": {},
   "outputs": [],
   "source": [
    "def search_bing(q:str) -> list[fsc.SearchResult]:\n",
    "    url = f\"https://www.bing.com/search?q={q}\"\n",
    "    \n",
    "    header = fsc.get_random_header()\n",
    "    \n",
    "    r = requests.get(url, headers=header)\n",
    "    \n",
    "    bs = bs4.BeautifulSoup(r.text, \"html.parser\")\n",
    "    \n",
    "    links = bs.find_all(\"a\", href=True)\n",
    "    \n",
    "    for i in range(len(links)):\n",
    "        link = links[i]\n",
    "        print(link)\n",
    "    \n",
    "    \n",
    "    "
   ]
  },
  {
   "cell_type": "code",
   "execution_count": 28,
   "metadata": {},
   "outputs": [
    {
     "name": "stdout",
     "output_type": "stream",
     "text": [
      "None\n"
     ]
    }
   ],
   "source": [
    "q = \"test\"\n",
    "print(search_bing(q))"
   ]
  }
 ],
 "metadata": {
  "kernelspec": {
   "display_name": "Python 3",
   "language": "python",
   "name": "python3"
  },
  "language_info": {
   "codemirror_mode": {
    "name": "ipython",
    "version": 3
   },
   "file_extension": ".py",
   "mimetype": "text/x-python",
   "name": "python",
   "nbconvert_exporter": "python",
   "pygments_lexer": "ipython3",
   "version": "3.11.7"
  }
 },
 "nbformat": 4,
 "nbformat_minor": 2
}
