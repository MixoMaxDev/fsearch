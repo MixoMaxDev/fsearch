{
 "cells": [
  {
   "cell_type": "markdown",
   "metadata": {},
   "source": [
    "# scrape topic index\n"
   ]
  },
  {
   "cell_type": "code",
   "execution_count": 10,
   "metadata": {},
   "outputs": [
    {
     "name": "stdout",
     "output_type": "stream",
     "text": [
      "Requirement already satisfied: chromadb in c:\\users\\linus\\appdata\\local\\packages\\pythonsoftwarefoundation.python.3.10_qbz5n2kfra8p0\\localcache\\local-packages\\python310\\site-packages (0.4.14)\n",
      "Requirement already satisfied: requests>=2.28 in c:\\users\\linus\\appdata\\local\\packages\\pythonsoftwarefoundation.python.3.10_qbz5n2kfra8p0\\localcache\\local-packages\\python310\\site-packages (from chromadb) (2.28.2)\n",
      "Requirement already satisfied: pydantic>=1.9 in c:\\users\\linus\\appdata\\local\\packages\\pythonsoftwarefoundation.python.3.10_qbz5n2kfra8p0\\localcache\\local-packages\\python310\\site-packages (from chromadb) (2.3.0)\n",
      "Requirement already satisfied: chroma-hnswlib==0.7.3 in c:\\users\\linus\\appdata\\local\\packages\\pythonsoftwarefoundation.python.3.10_qbz5n2kfra8p0\\localcache\\local-packages\\python310\\site-packages (from chromadb) (0.7.3)\n",
      "Requirement already satisfied: fastapi>=0.95.2 in c:\\users\\linus\\appdata\\local\\packages\\pythonsoftwarefoundation.python.3.10_qbz5n2kfra8p0\\localcache\\local-packages\\python310\\site-packages (from chromadb) (0.103.1)\n",
      "Requirement already satisfied: uvicorn[standard]>=0.18.3 in c:\\users\\linus\\appdata\\local\\packages\\pythonsoftwarefoundation.python.3.10_qbz5n2kfra8p0\\localcache\\local-packages\\python310\\site-packages (from chromadb) (0.23.2)\n",
      "Requirement already satisfied: posthog>=2.4.0 in c:\\users\\linus\\appdata\\local\\packages\\pythonsoftwarefoundation.python.3.10_qbz5n2kfra8p0\\localcache\\local-packages\\python310\\site-packages (from chromadb) (3.0.2)\n",
      "Requirement already satisfied: typing-extensions>=4.5.0 in c:\\users\\linus\\appdata\\local\\packages\\pythonsoftwarefoundation.python.3.10_qbz5n2kfra8p0\\localcache\\local-packages\\python310\\site-packages (from chromadb) (4.7.1)\n",
      "Requirement already satisfied: pulsar-client>=3.1.0 in c:\\users\\linus\\appdata\\local\\packages\\pythonsoftwarefoundation.python.3.10_qbz5n2kfra8p0\\localcache\\local-packages\\python310\\site-packages (from chromadb) (3.3.0)\n",
      "Requirement already satisfied: onnxruntime>=1.14.1 in c:\\users\\linus\\appdata\\local\\packages\\pythonsoftwarefoundation.python.3.10_qbz5n2kfra8p0\\localcache\\local-packages\\python310\\site-packages (from chromadb) (1.16.1)\n",
      "Requirement already satisfied: tokenizers>=0.13.2 in c:\\users\\linus\\appdata\\local\\packages\\pythonsoftwarefoundation.python.3.10_qbz5n2kfra8p0\\localcache\\local-packages\\python310\\site-packages (from chromadb) (0.14.1)\n",
      "Requirement already satisfied: pypika>=0.48.9 in c:\\users\\linus\\appdata\\local\\packages\\pythonsoftwarefoundation.python.3.10_qbz5n2kfra8p0\\localcache\\local-packages\\python310\\site-packages (from chromadb) (0.48.9)\n",
      "Requirement already satisfied: tqdm>=4.65.0 in c:\\users\\linus\\appdata\\local\\packages\\pythonsoftwarefoundation.python.3.10_qbz5n2kfra8p0\\localcache\\local-packages\\python310\\site-packages (from chromadb) (4.66.1)\n",
      "Requirement already satisfied: overrides>=7.3.1 in c:\\users\\linus\\appdata\\local\\packages\\pythonsoftwarefoundation.python.3.10_qbz5n2kfra8p0\\localcache\\local-packages\\python310\\site-packages (from chromadb) (7.3.1)\n",
      "Requirement already satisfied: importlib-resources in c:\\users\\linus\\appdata\\local\\packages\\pythonsoftwarefoundation.python.3.10_qbz5n2kfra8p0\\localcache\\local-packages\\python310\\site-packages (from chromadb) (6.1.0)\n",
      "Requirement already satisfied: grpcio>=1.58.0 in c:\\users\\linus\\appdata\\local\\packages\\pythonsoftwarefoundation.python.3.10_qbz5n2kfra8p0\\localcache\\local-packages\\python310\\site-packages (from chromadb) (1.59.0)\n",
      "Requirement already satisfied: bcrypt>=4.0.1 in c:\\users\\linus\\appdata\\local\\packages\\pythonsoftwarefoundation.python.3.10_qbz5n2kfra8p0\\localcache\\local-packages\\python310\\site-packages (from chromadb) (4.0.1)\n",
      "Requirement already satisfied: typer>=0.9.0 in c:\\users\\linus\\appdata\\local\\packages\\pythonsoftwarefoundation.python.3.10_qbz5n2kfra8p0\\localcache\\local-packages\\python310\\site-packages (from chromadb) (0.9.0)\n",
      "Requirement already satisfied: numpy>=1.22.5 in c:\\users\\linus\\appdata\\local\\packages\\pythonsoftwarefoundation.python.3.10_qbz5n2kfra8p0\\localcache\\local-packages\\python310\\site-packages (from chromadb) (1.23.5)\n",
      "Requirement already satisfied: anyio<4.0.0,>=3.7.1 in c:\\users\\linus\\appdata\\local\\packages\\pythonsoftwarefoundation.python.3.10_qbz5n2kfra8p0\\localcache\\local-packages\\python310\\site-packages (from fastapi>=0.95.2->chromadb) (3.7.1)\n",
      "Requirement already satisfied: starlette<0.28.0,>=0.27.0 in c:\\users\\linus\\appdata\\local\\packages\\pythonsoftwarefoundation.python.3.10_qbz5n2kfra8p0\\localcache\\local-packages\\python310\\site-packages (from fastapi>=0.95.2->chromadb) (0.27.0)\n",
      "Requirement already satisfied: coloredlogs in c:\\users\\linus\\appdata\\local\\packages\\pythonsoftwarefoundation.python.3.10_qbz5n2kfra8p0\\localcache\\local-packages\\python310\\site-packages (from onnxruntime>=1.14.1->chromadb) (15.0.1)\n",
      "Requirement already satisfied: flatbuffers in c:\\users\\linus\\appdata\\local\\packages\\pythonsoftwarefoundation.python.3.10_qbz5n2kfra8p0\\localcache\\local-packages\\python310\\site-packages (from onnxruntime>=1.14.1->chromadb) (23.3.3)\n",
      "Requirement already satisfied: packaging in c:\\users\\linus\\appdata\\local\\packages\\pythonsoftwarefoundation.python.3.10_qbz5n2kfra8p0\\localcache\\local-packages\\python310\\site-packages (from onnxruntime>=1.14.1->chromadb) (23.0)\n",
      "Requirement already satisfied: protobuf in c:\\users\\linus\\appdata\\local\\packages\\pythonsoftwarefoundation.python.3.10_qbz5n2kfra8p0\\localcache\\local-packages\\python310\\site-packages (from onnxruntime>=1.14.1->chromadb) (4.22.1)\n",
      "Requirement already satisfied: sympy in c:\\users\\linus\\appdata\\local\\packages\\pythonsoftwarefoundation.python.3.10_qbz5n2kfra8p0\\localcache\\local-packages\\python310\\site-packages (from onnxruntime>=1.14.1->chromadb) (1.11.1)\n",
      "Requirement already satisfied: six>=1.5 in c:\\users\\linus\\appdata\\local\\packages\\pythonsoftwarefoundation.python.3.10_qbz5n2kfra8p0\\localcache\\local-packages\\python310\\site-packages (from posthog>=2.4.0->chromadb) (1.16.0)\n",
      "Requirement already satisfied: monotonic>=1.5 in c:\\users\\linus\\appdata\\local\\packages\\pythonsoftwarefoundation.python.3.10_qbz5n2kfra8p0\\localcache\\local-packages\\python310\\site-packages (from posthog>=2.4.0->chromadb) (1.6)\n",
      "Requirement already satisfied: backoff>=1.10.0 in c:\\users\\linus\\appdata\\local\\packages\\pythonsoftwarefoundation.python.3.10_qbz5n2kfra8p0\\localcache\\local-packages\\python310\\site-packages (from posthog>=2.4.0->chromadb) (2.2.1)\n",
      "Requirement already satisfied: python-dateutil>2.1 in c:\\users\\linus\\appdata\\local\\packages\\pythonsoftwarefoundation.python.3.10_qbz5n2kfra8p0\\localcache\\local-packages\\python310\\site-packages (from posthog>=2.4.0->chromadb) (2.8.2)\n",
      "Requirement already satisfied: certifi in c:\\users\\linus\\appdata\\local\\packages\\pythonsoftwarefoundation.python.3.10_qbz5n2kfra8p0\\localcache\\local-packages\\python310\\site-packages (from pulsar-client>=3.1.0->chromadb) (2022.12.7)\n",
      "Requirement already satisfied: annotated-types>=0.4.0 in c:\\users\\linus\\appdata\\local\\packages\\pythonsoftwarefoundation.python.3.10_qbz5n2kfra8p0\\localcache\\local-packages\\python310\\site-packages (from pydantic>=1.9->chromadb) (0.5.0)\n",
      "Requirement already satisfied: pydantic-core==2.6.3 in c:\\users\\linus\\appdata\\local\\packages\\pythonsoftwarefoundation.python.3.10_qbz5n2kfra8p0\\localcache\\local-packages\\python310\\site-packages (from pydantic>=1.9->chromadb) (2.6.3)\n",
      "Requirement already satisfied: charset-normalizer<4,>=2 in c:\\users\\linus\\appdata\\local\\packages\\pythonsoftwarefoundation.python.3.10_qbz5n2kfra8p0\\localcache\\local-packages\\python310\\site-packages (from requests>=2.28->chromadb) (3.0.1)\n",
      "Requirement already satisfied: idna<4,>=2.5 in c:\\users\\linus\\appdata\\local\\packages\\pythonsoftwarefoundation.python.3.10_qbz5n2kfra8p0\\localcache\\local-packages\\python310\\site-packages (from requests>=2.28->chromadb) (3.4)\n",
      "Requirement already satisfied: urllib3<1.27,>=1.21.1 in c:\\users\\linus\\appdata\\local\\packages\\pythonsoftwarefoundation.python.3.10_qbz5n2kfra8p0\\localcache\\local-packages\\python310\\site-packages (from requests>=2.28->chromadb) (1.26.14)\n",
      "Requirement already satisfied: huggingface_hub<0.18,>=0.16.4 in c:\\users\\linus\\appdata\\local\\packages\\pythonsoftwarefoundation.python.3.10_qbz5n2kfra8p0\\localcache\\local-packages\\python310\\site-packages (from tokenizers>=0.13.2->chromadb) (0.17.3)\n",
      "Requirement already satisfied: colorama in c:\\users\\linus\\appdata\\local\\packages\\pythonsoftwarefoundation.python.3.10_qbz5n2kfra8p0\\localcache\\local-packages\\python310\\site-packages (from tqdm>=4.65.0->chromadb) (0.4.6)\n",
      "Requirement already satisfied: click<9.0.0,>=7.1.1 in c:\\users\\linus\\appdata\\local\\packages\\pythonsoftwarefoundation.python.3.10_qbz5n2kfra8p0\\localcache\\local-packages\\python310\\site-packages (from typer>=0.9.0->chromadb) (8.1.3)\n",
      "Requirement already satisfied: h11>=0.8 in c:\\users\\linus\\appdata\\local\\packages\\pythonsoftwarefoundation.python.3.10_qbz5n2kfra8p0\\localcache\\local-packages\\python310\\site-packages (from uvicorn[standard]>=0.18.3->chromadb) (0.14.0)\n",
      "Requirement already satisfied: httptools>=0.5.0 in c:\\users\\linus\\appdata\\local\\packages\\pythonsoftwarefoundation.python.3.10_qbz5n2kfra8p0\\localcache\\local-packages\\python310\\site-packages (from uvicorn[standard]>=0.18.3->chromadb) (0.6.1)\n",
      "Requirement already satisfied: python-dotenv>=0.13 in c:\\users\\linus\\appdata\\local\\packages\\pythonsoftwarefoundation.python.3.10_qbz5n2kfra8p0\\localcache\\local-packages\\python310\\site-packages (from uvicorn[standard]>=0.18.3->chromadb) (1.0.0)\n",
      "Requirement already satisfied: pyyaml>=5.1 in c:\\users\\linus\\appdata\\local\\packages\\pythonsoftwarefoundation.python.3.10_qbz5n2kfra8p0\\localcache\\local-packages\\python310\\site-packages (from uvicorn[standard]>=0.18.3->chromadb) (6.0)\n",
      "Requirement already satisfied: watchfiles>=0.13 in c:\\users\\linus\\appdata\\local\\packages\\pythonsoftwarefoundation.python.3.10_qbz5n2kfra8p0\\localcache\\local-packages\\python310\\site-packages (from uvicorn[standard]>=0.18.3->chromadb) (0.21.0)\n",
      "Requirement already satisfied: websockets>=10.4 in c:\\users\\linus\\appdata\\local\\packages\\pythonsoftwarefoundation.python.3.10_qbz5n2kfra8p0\\localcache\\local-packages\\python310\\site-packages (from uvicorn[standard]>=0.18.3->chromadb) (12.0)\n",
      "Requirement already satisfied: sniffio>=1.1 in c:\\users\\linus\\appdata\\local\\packages\\pythonsoftwarefoundation.python.3.10_qbz5n2kfra8p0\\localcache\\local-packages\\python310\\site-packages (from anyio<4.0.0,>=3.7.1->fastapi>=0.95.2->chromadb) (1.3.0)\n",
      "Requirement already satisfied: exceptiongroup in c:\\users\\linus\\appdata\\local\\packages\\pythonsoftwarefoundation.python.3.10_qbz5n2kfra8p0\\localcache\\local-packages\\python310\\site-packages (from anyio<4.0.0,>=3.7.1->fastapi>=0.95.2->chromadb) (1.1.1)\n",
      "Requirement already satisfied: filelock in c:\\users\\linus\\appdata\\local\\packages\\pythonsoftwarefoundation.python.3.10_qbz5n2kfra8p0\\localcache\\local-packages\\python310\\site-packages (from huggingface_hub<0.18,>=0.16.4->tokenizers>=0.13.2->chromadb) (3.10.2)\n",
      "Requirement already satisfied: fsspec in c:\\users\\linus\\appdata\\local\\packages\\pythonsoftwarefoundation.python.3.10_qbz5n2kfra8p0\\localcache\\local-packages\\python310\\site-packages (from huggingface_hub<0.18,>=0.16.4->tokenizers>=0.13.2->chromadb) (2023.10.0)\n",
      "Requirement already satisfied: humanfriendly>=9.1 in c:\\users\\linus\\appdata\\local\\packages\\pythonsoftwarefoundation.python.3.10_qbz5n2kfra8p0\\localcache\\local-packages\\python310\\site-packages (from coloredlogs->onnxruntime>=1.14.1->chromadb) (10.0)\n",
      "Requirement already satisfied: mpmath>=0.19 in c:\\users\\linus\\appdata\\local\\packages\\pythonsoftwarefoundation.python.3.10_qbz5n2kfra8p0\\localcache\\local-packages\\python310\\site-packages (from sympy->onnxruntime>=1.14.1->chromadb) (1.3.0)\n",
      "Requirement already satisfied: pyreadline3 in c:\\users\\linus\\appdata\\local\\packages\\pythonsoftwarefoundation.python.3.10_qbz5n2kfra8p0\\localcache\\local-packages\\python310\\site-packages (from humanfriendly>=9.1->coloredlogs->onnxruntime>=1.14.1->chromadb) (3.4.1)\n",
      "Note: you may need to restart the kernel to use updated packages.\n"
     ]
    },
    {
     "name": "stderr",
     "output_type": "stream",
     "text": [
      "\n",
      "[notice] A new release of pip is available: 23.2.1 -> 23.3.1\n",
      "[notice] To update, run: C:\\Users\\Linus\\AppData\\Local\\Microsoft\\WindowsApps\\PythonSoftwareFoundation.Python.3.10_qbz5n2kfra8p0\\python.exe -m pip install --upgrade pip\n"
     ]
    },
    {
     "name": "stdout",
     "output_type": "stream",
     "text": [
      "Requirement already satisfied: bs4 in c:\\users\\linus\\appdata\\local\\packages\\pythonsoftwarefoundation.python.3.10_qbz5n2kfra8p0\\localcache\\local-packages\\python310\\site-packages (0.0.1)\n",
      "Requirement already satisfied: beautifulsoup4 in c:\\users\\linus\\appdata\\local\\packages\\pythonsoftwarefoundation.python.3.10_qbz5n2kfra8p0\\localcache\\local-packages\\python310\\site-packages (from bs4) (4.12.2)\n",
      "Requirement already satisfied: soupsieve>1.2 in c:\\users\\linus\\appdata\\local\\packages\\pythonsoftwarefoundation.python.3.10_qbz5n2kfra8p0\\localcache\\local-packages\\python310\\site-packages (from beautifulsoup4->bs4) (2.4.1)\n",
      "Note: you may need to restart the kernel to use updated packages.\n"
     ]
    },
    {
     "name": "stderr",
     "output_type": "stream",
     "text": [
      "\n",
      "[notice] A new release of pip is available: 23.2.1 -> 23.3.1\n",
      "[notice] To update, run: C:\\Users\\Linus\\AppData\\Local\\Microsoft\\WindowsApps\\PythonSoftwareFoundation.Python.3.10_qbz5n2kfra8p0\\python.exe -m pip install --upgrade pip\n"
     ]
    }
   ],
   "source": [
    "%pip install chromadb\n",
    "%pip install bs4"
   ]
  },
  {
   "cell_type": "code",
   "execution_count": 5,
   "metadata": {},
   "outputs": [],
   "source": [
    "import requests\n",
    "import time\n",
    "import chromadb\n",
    "from bs4 import BeautifulSoup"
   ]
  },
  {
   "cell_type": "code",
   "execution_count": 2,
   "metadata": {},
   "outputs": [
    {
     "name": "stdout",
     "output_type": "stream",
     "text": [
      "17436825\n"
     ]
    }
   ],
   "source": [
    "#load wikipedia article titles\n",
    "\n",
    "wiki_titles = []\n",
    "with open(\"./data/enwiki-latest-all-titles.txt\", \"r\", encoding=\"utf-8\") as f:\n",
    "    for line in f:\n",
    "        wiki_titles.append(line.strip())\n",
    "\n",
    "print(len(wiki_titles))"
   ]
  },
  {
   "cell_type": "code",
   "execution_count": 8,
   "metadata": {},
   "outputs": [],
   "source": [
    "Client = chromadb.PersistentClient(\"./data/chromadb\")"
   ]
  },
  {
   "cell_type": "code",
   "execution_count": 28,
   "metadata": {},
   "outputs": [],
   "source": [
    "#delete collection \"wiki_titles\"\n",
    "\n",
    "Client.delete_collection(\"wiki_titles\")"
   ]
  },
  {
   "cell_type": "code",
   "execution_count": 27,
   "metadata": {},
   "outputs": [
    {
     "name": "stdout",
     "output_type": "stream",
     "text": [
      "Batch 1 / 34873 (23.5 elements/s, 8.6 days remaining)\n",
      "Batch 2 / 34873 (23.9 elements/s, 8.4 days remaining)\n",
      "Batch 3 / 34873 (23.6 elements/s, 8.5 days remaining)\n",
      "Batch 4 / 34873 (24.6 elements/s, 8.2 days remaining)\n",
      "Batch 5 / 34873 (24.4 elements/s, 8.3 days remaining)\n",
      "Batch 6 / 34873 (24.3 elements/s, 8.3 days remaining)\n",
      "Batch 7 / 34873 (24.3 elements/s, 8.3 days remaining)\n",
      "Batch 8 / 34873 (24.5 elements/s, 8.2 days remaining)\n",
      "Batch 9 / 34873 (25.4 elements/s, 7.9 days remaining)\n",
      "Batch 10 / 34873 (24.8 elements/s, 8.1 days remaining)\n",
      "Batch 11 / 34873 (24.9 elements/s, 8.1 days remaining)\n",
      "Batch 12 / 34873 (24.8 elements/s, 8.1 days remaining)\n",
      "Batch 13 / 34873 (25.2 elements/s, 8.0 days remaining)\n",
      "Batch 14 / 34873 (25.0 elements/s, 8.1 days remaining)\n",
      "Batch 15 / 34873 (25.1 elements/s, 8.0 days remaining)\n",
      "Batch 16 / 34873 (24.9 elements/s, 8.1 days remaining)\n",
      "Batch 17 / 34873 (24.9 elements/s, 8.1 days remaining)\n",
      "Batch 18 / 34873 (24.9 elements/s, 8.1 days remaining)\n",
      "Batch 19 / 34873 (25.1 elements/s, 8.0 days remaining)\n",
      "Batch 20 / 34873 (24.6 elements/s, 8.2 days remaining)\n",
      "Batch 21 / 34873 (25.0 elements/s, 8.1 days remaining)\n",
      "Batch 22 / 34873 (25.1 elements/s, 8.0 days remaining)\n",
      "Batch 23 / 34873 (24.8 elements/s, 8.1 days remaining)\n",
      "Batch 24 / 34873 (25.0 elements/s, 8.1 days remaining)\n",
      "Batch 25 / 34873 (25.1 elements/s, 8.0 days remaining)\n",
      "Batch 26 / 34873 (24.5 elements/s, 8.2 days remaining)\n",
      "Batch 27 / 34873 (24.6 elements/s, 8.2 days remaining)\n",
      "Batch 28 / 34873 (24.7 elements/s, 8.2 days remaining)\n",
      "Batch 29 / 34873 (24.6 elements/s, 8.2 days remaining)\n",
      "Batch 30 / 34873 (24.6 elements/s, 8.2 days remaining)\n",
      "Batch 31 / 34873 (24.9 elements/s, 8.1 days remaining)\n",
      "Batch 32 / 34873 (24.6 elements/s, 8.2 days remaining)\n",
      "Batch 33 / 34873 (24.7 elements/s, 8.2 days remaining)\n",
      "Batch 34 / 34873 (24.9 elements/s, 8.1 days remaining)\n",
      "Batch 35 / 34873 (25.2 elements/s, 8.0 days remaining)\n",
      "Batch 36 / 34873 (24.8 elements/s, 8.1 days remaining)\n",
      "Batch 37 / 34873 (25.3 elements/s, 8.0 days remaining)\n",
      "Batch 38 / 34873 (25.3 elements/s, 8.0 days remaining)\n",
      "Batch 39 / 34873 (24.8 elements/s, 8.1 days remaining)\n",
      "Batch 40 / 34873 (24.8 elements/s, 8.1 days remaining)\n",
      "Batch 41 / 34873 (24.5 elements/s, 8.2 days remaining)\n",
      "Batch 42 / 34873 (24.6 elements/s, 8.2 days remaining)\n",
      "Batch 43 / 34873 (24.6 elements/s, 8.2 days remaining)\n",
      "Batch 44 / 34873 (24.9 elements/s, 8.1 days remaining)\n",
      "Batch 45 / 34873 (25.7 elements/s, 7.8 days remaining)\n",
      "Batch 46 / 34873 (24.7 elements/s, 8.1 days remaining)\n",
      "Batch 47 / 34873 (24.6 elements/s, 8.2 days remaining)\n",
      "Batch 48 / 34873 (23.2 elements/s, 8.7 days remaining)\n",
      "Batch 49 / 34873 (23.4 elements/s, 8.6 days remaining)\n"
     ]
    },
    {
     "ename": "KeyboardInterrupt",
     "evalue": "",
     "output_type": "error",
     "traceback": [
      "\u001b[1;31m---------------------------------------------------------------------------\u001b[0m",
      "\u001b[1;31mKeyboardInterrupt\u001b[0m                         Traceback (most recent call last)",
      "\u001b[1;32mc:\\Users\\Linus\\Documents\\GitHub\\fsearch\\scrape_index.ipynb Cell 7\u001b[0m line \u001b[0;36m1\n\u001b[0;32m     <a href='vscode-notebook-cell:/c%3A/Users/Linus/Documents/GitHub/fsearch/scrape_index.ipynb#W4sZmlsZQ%3D%3D?line=10'>11</a>\u001b[0m indices \u001b[39m=\u001b[39m \u001b[39mlist\u001b[39m(\u001b[39mrange\u001b[39m(i, i\u001b[39m+\u001b[39m\u001b[39mlen\u001b[39m(titles)))\n\u001b[0;32m     <a href='vscode-notebook-cell:/c%3A/Users/Linus/Documents/GitHub/fsearch/scrape_index.ipynb#W4sZmlsZQ%3D%3D?line=11'>12</a>\u001b[0m indices \u001b[39m=\u001b[39m [\u001b[39mstr\u001b[39m(x) \u001b[39mfor\u001b[39;00m x \u001b[39min\u001b[39;00m indices]\n\u001b[1;32m---> <a href='vscode-notebook-cell:/c%3A/Users/Linus/Documents/GitHub/fsearch/scrape_index.ipynb#W4sZmlsZQ%3D%3D?line=12'>13</a>\u001b[0m collection\u001b[39m.\u001b[39;49madd(\n\u001b[0;32m     <a href='vscode-notebook-cell:/c%3A/Users/Linus/Documents/GitHub/fsearch/scrape_index.ipynb#W4sZmlsZQ%3D%3D?line=13'>14</a>\u001b[0m     documents\u001b[39m=\u001b[39;49mtitles,\n\u001b[0;32m     <a href='vscode-notebook-cell:/c%3A/Users/Linus/Documents/GitHub/fsearch/scrape_index.ipynb#W4sZmlsZQ%3D%3D?line=14'>15</a>\u001b[0m     ids\u001b[39m=\u001b[39;49mindices\n\u001b[0;32m     <a href='vscode-notebook-cell:/c%3A/Users/Linus/Documents/GitHub/fsearch/scrape_index.ipynb#W4sZmlsZQ%3D%3D?line=15'>16</a>\u001b[0m )\n\u001b[0;32m     <a href='vscode-notebook-cell:/c%3A/Users/Linus/Documents/GitHub/fsearch/scrape_index.ipynb#W4sZmlsZQ%3D%3D?line=17'>18</a>\u001b[0m time_elapsed \u001b[39m=\u001b[39m time\u001b[39m.\u001b[39mtime() \u001b[39m-\u001b[39m t_start\n\u001b[0;32m     <a href='vscode-notebook-cell:/c%3A/Users/Linus/Documents/GitHub/fsearch/scrape_index.ipynb#W4sZmlsZQ%3D%3D?line=18'>19</a>\u001b[0m remaining_time \u001b[39m=\u001b[39m time_elapsed \u001b[39m*\u001b[39m (num_batches \u001b[39m-\u001b[39m i \u001b[39m/\u001b[39m\u001b[39m/\u001b[39m batch_size)\n",
      "File \u001b[1;32m~\\AppData\\Local\\Packages\\PythonSoftwareFoundation.Python.3.10_qbz5n2kfra8p0\\LocalCache\\local-packages\\Python310\\site-packages\\chromadb\\api\\models\\Collection.py:96\u001b[0m, in \u001b[0;36mCollection.add\u001b[1;34m(self, ids, embeddings, metadatas, documents)\u001b[0m\n\u001b[0;32m     70\u001b[0m \u001b[39mdef\u001b[39;00m \u001b[39madd\u001b[39m(\n\u001b[0;32m     71\u001b[0m     \u001b[39mself\u001b[39m,\n\u001b[0;32m     72\u001b[0m     ids: OneOrMany[ID],\n\u001b[1;32m   (...)\u001b[0m\n\u001b[0;32m     75\u001b[0m     documents: Optional[OneOrMany[Document]] \u001b[39m=\u001b[39m \u001b[39mNone\u001b[39;00m,\n\u001b[0;32m     76\u001b[0m ) \u001b[39m-\u001b[39m\u001b[39m>\u001b[39m \u001b[39mNone\u001b[39;00m:\n\u001b[0;32m     77\u001b[0m \u001b[39m    \u001b[39m\u001b[39m\"\"\"Add embeddings to the data store.\u001b[39;00m\n\u001b[0;32m     78\u001b[0m \u001b[39m    Args:\u001b[39;00m\n\u001b[0;32m     79\u001b[0m \u001b[39m        ids: The ids of the embeddings you wish to add\u001b[39;00m\n\u001b[1;32m   (...)\u001b[0m\n\u001b[0;32m     93\u001b[0m \n\u001b[0;32m     94\u001b[0m \u001b[39m    \"\"\"\u001b[39;00m\n\u001b[1;32m---> 96\u001b[0m     ids, embeddings, metadatas, documents \u001b[39m=\u001b[39m \u001b[39mself\u001b[39;49m\u001b[39m.\u001b[39;49m_validate_embedding_set(\n\u001b[0;32m     97\u001b[0m         ids, embeddings, metadatas, documents\n\u001b[0;32m     98\u001b[0m     )\n\u001b[0;32m    100\u001b[0m     \u001b[39mself\u001b[39m\u001b[39m.\u001b[39m_client\u001b[39m.\u001b[39m_add(ids, \u001b[39mself\u001b[39m\u001b[39m.\u001b[39mid, embeddings, metadatas, documents)\n",
      "File \u001b[1;32m~\\AppData\\Local\\Packages\\PythonSoftwareFoundation.Python.3.10_qbz5n2kfra8p0\\LocalCache\\local-packages\\Python310\\site-packages\\chromadb\\api\\models\\Collection.py:387\u001b[0m, in \u001b[0;36mCollection._validate_embedding_set\u001b[1;34m(self, ids, embeddings, metadatas, documents, require_embeddings_or_documents)\u001b[0m\n\u001b[0;32m    383\u001b[0m     \u001b[39mif\u001b[39;00m \u001b[39mself\u001b[39m\u001b[39m.\u001b[39m_embedding_function \u001b[39mis\u001b[39;00m \u001b[39mNone\u001b[39;00m:\n\u001b[0;32m    384\u001b[0m         \u001b[39mraise\u001b[39;00m \u001b[39mValueError\u001b[39;00m(\n\u001b[0;32m    385\u001b[0m             \u001b[39m\"\u001b[39m\u001b[39mYou must provide embeddings or a function to compute them\u001b[39m\u001b[39m\"\u001b[39m\n\u001b[0;32m    386\u001b[0m         )\n\u001b[1;32m--> 387\u001b[0m     embeddings \u001b[39m=\u001b[39m \u001b[39mself\u001b[39;49m\u001b[39m.\u001b[39;49m_embedding_function(documents)\n\u001b[0;32m    389\u001b[0m \u001b[39m# if embeddings is None:\u001b[39;00m\n\u001b[0;32m    390\u001b[0m \u001b[39m#     raise ValueError(\u001b[39;00m\n\u001b[0;32m    391\u001b[0m \u001b[39m#         \"Something went wrong. Embeddings should be computed at this point\"\u001b[39;00m\n\u001b[0;32m    392\u001b[0m \u001b[39m#     )\u001b[39;00m\n\u001b[0;32m    394\u001b[0m \u001b[39mreturn\u001b[39;00m ids, embeddings, metadatas, documents\n",
      "File \u001b[1;32m~\\AppData\\Local\\Packages\\PythonSoftwareFoundation.Python.3.10_qbz5n2kfra8p0\\LocalCache\\local-packages\\Python310\\site-packages\\chromadb\\utils\\embedding_functions.py:381\u001b[0m, in \u001b[0;36mONNXMiniLM_L6_V2.__call__\u001b[1;34m(self, texts)\u001b[0m\n\u001b[0;32m    379\u001b[0m \u001b[39mself\u001b[39m\u001b[39m.\u001b[39m_download_model_if_not_exists()\n\u001b[0;32m    380\u001b[0m \u001b[39mself\u001b[39m\u001b[39m.\u001b[39m_init_model_and_tokenizer()\n\u001b[1;32m--> 381\u001b[0m res \u001b[39m=\u001b[39m cast(Embeddings, \u001b[39mself\u001b[39;49m\u001b[39m.\u001b[39;49m_forward(texts)\u001b[39m.\u001b[39mtolist())\n\u001b[0;32m    382\u001b[0m \u001b[39mreturn\u001b[39;00m res\n",
      "File \u001b[1;32m~\\AppData\\Local\\Packages\\PythonSoftwareFoundation.Python.3.10_qbz5n2kfra8p0\\LocalCache\\local-packages\\Python310\\site-packages\\chromadb\\utils\\embedding_functions.py:330\u001b[0m, in \u001b[0;36mONNXMiniLM_L6_V2._forward\u001b[1;34m(self, documents, batch_size)\u001b[0m\n\u001b[0;32m    321\u001b[0m attention_mask \u001b[39m=\u001b[39m np\u001b[39m.\u001b[39marray([e\u001b[39m.\u001b[39mattention_mask \u001b[39mfor\u001b[39;00m e \u001b[39min\u001b[39;00m encoded])\n\u001b[0;32m    322\u001b[0m onnx_input \u001b[39m=\u001b[39m {\n\u001b[0;32m    323\u001b[0m     \u001b[39m\"\u001b[39m\u001b[39minput_ids\u001b[39m\u001b[39m\"\u001b[39m: np\u001b[39m.\u001b[39marray(input_ids, dtype\u001b[39m=\u001b[39mnp\u001b[39m.\u001b[39mint64),\n\u001b[0;32m    324\u001b[0m     \u001b[39m\"\u001b[39m\u001b[39mattention_mask\u001b[39m\u001b[39m\"\u001b[39m: np\u001b[39m.\u001b[39marray(attention_mask, dtype\u001b[39m=\u001b[39mnp\u001b[39m.\u001b[39mint64),\n\u001b[1;32m   (...)\u001b[0m\n\u001b[0;32m    328\u001b[0m     ),\n\u001b[0;32m    329\u001b[0m }\n\u001b[1;32m--> 330\u001b[0m model_output \u001b[39m=\u001b[39m \u001b[39mself\u001b[39;49m\u001b[39m.\u001b[39;49mmodel\u001b[39m.\u001b[39;49mrun(\u001b[39mNone\u001b[39;49;00m, onnx_input)\n\u001b[0;32m    331\u001b[0m last_hidden_state \u001b[39m=\u001b[39m model_output[\u001b[39m0\u001b[39m]\n\u001b[0;32m    332\u001b[0m \u001b[39m# Perform mean pooling with attention weighting\u001b[39;00m\n",
      "File \u001b[1;32m~\\AppData\\Local\\Packages\\PythonSoftwareFoundation.Python.3.10_qbz5n2kfra8p0\\LocalCache\\local-packages\\Python310\\site-packages\\onnxruntime\\capi\\onnxruntime_inference_collection.py:220\u001b[0m, in \u001b[0;36mSession.run\u001b[1;34m(self, output_names, input_feed, run_options)\u001b[0m\n\u001b[0;32m    218\u001b[0m     output_names \u001b[39m=\u001b[39m [output\u001b[39m.\u001b[39mname \u001b[39mfor\u001b[39;00m output \u001b[39min\u001b[39;00m \u001b[39mself\u001b[39m\u001b[39m.\u001b[39m_outputs_meta]\n\u001b[0;32m    219\u001b[0m \u001b[39mtry\u001b[39;00m:\n\u001b[1;32m--> 220\u001b[0m     \u001b[39mreturn\u001b[39;00m \u001b[39mself\u001b[39;49m\u001b[39m.\u001b[39;49m_sess\u001b[39m.\u001b[39;49mrun(output_names, input_feed, run_options)\n\u001b[0;32m    221\u001b[0m \u001b[39mexcept\u001b[39;00m C\u001b[39m.\u001b[39mEPFail \u001b[39mas\u001b[39;00m err:\n\u001b[0;32m    222\u001b[0m     \u001b[39mif\u001b[39;00m \u001b[39mself\u001b[39m\u001b[39m.\u001b[39m_enable_fallback:\n",
      "\u001b[1;31mKeyboardInterrupt\u001b[0m: "
     ]
    }
   ],
   "source": [
    "#add wikipedia article titles to chromadb\n",
    "\n",
    "collection = Client.get_or_create_collection(\"wiki_titles\")\n",
    "\n",
    "batch_size = 500\n",
    "num_batches = len(wiki_titles) // batch_size\n",
    "for i in range(0, len(wiki_titles), batch_size):\n",
    "    t_start = time.time()\n",
    "    \n",
    "    titles=wiki_titles[i:i+batch_size]\n",
    "    indices = list(range(i, i+len(titles)))\n",
    "    indices = [str(x) for x in indices]\n",
    "    collection.add(\n",
    "        documents=titles,\n",
    "        ids=indices\n",
    "    )\n",
    "    \n",
    "    time_elapsed = time.time() - t_start\n",
    "    remaining_time = time_elapsed * (num_batches - i // batch_size)\n",
    "    \n",
    "    elements_per_second = batch_size / time_elapsed\n",
    "    \n",
    "    if remaining_time > 3600 * 24:\n",
    "        time_str = f\"{remaining_time / 3600 / 24:.1f} days\"\n",
    "    elif remaining_time > 3600:\n",
    "        time_str = f\"{remaining_time / 3600:.1f} hours\"\n",
    "    elif remaining_time > 60:\n",
    "        time_str = f\"{remaining_time / 60:.1f} minutes\"\n",
    "    else:\n",
    "        time_str = f\"{remaining_time:.1f} seconds\"\n",
    "    \n",
    "    print(f\"Batch {i // batch_size + 1} / {num_batches} ({elements_per_second:.1f} elements/s, {time_str} remaining)\")"
   ]
  },
  {
   "cell_type": "code",
   "execution_count": null,
   "metadata": {},
   "outputs": [],
   "source": [
    "def query(query: str, num_results: int = 10):\n",
    "    collection = Client.get_collection(\"wiki_titles\")\n",
    "    \n",
    "    t_start = time.time()\n",
    "    \n",
    "    r = collection.query(\n",
    "        query_texts=[query],\n",
    "        n_results=num_results\n",
    "    )\n",
    "    \n",
    "    return r"
   ]
  }
 ],
 "metadata": {
  "kernelspec": {
   "display_name": "Python 3",
   "language": "python",
   "name": "python3"
  },
  "language_info": {
   "codemirror_mode": {
    "name": "ipython",
    "version": 3
   },
   "file_extension": ".py",
   "mimetype": "text/x-python",
   "name": "python",
   "nbconvert_exporter": "python",
   "pygments_lexer": "ipython3",
   "version": "3.10.11"
  }
 },
 "nbformat": 4,
 "nbformat_minor": 2
}
